{
 "cells": [
  {
   "cell_type": "markdown",
   "id": "9062fc6a-c238-42c5-a12f-a30f091c36a9",
   "metadata": {},
   "source": [
    "Write a python program to read the Inches from the below .csv file\n",
    "and then Convert Inches to Centimeters using SciPy Constants. After that\n",
    "display the first 5 records and also save the calculated result into a new csv file.\n",
    "Input:\n",
    "https://raw.githubusercontent.com/AnudipAE/DANLC/master/people_heights.csv"
   ]
  },
  {
   "cell_type": "code",
   "execution_count": 1,
   "id": "eb7c9fbf-a7d2-484d-b7ea-4772e8eb34f8",
   "metadata": {},
   "outputs": [],
   "source": [
    "#import pandas and scipy and constant from scipy module.\n",
    "import pandas as pd\n",
    "import scipy\n",
    "from scipy import constants as cons"
   ]
  },
  {
   "cell_type": "code",
   "execution_count": 3,
   "id": "43b31b12-92c9-4829-8595-aaa4e16f42af",
   "metadata": {},
   "outputs": [
    {
     "name": "stdout",
     "output_type": "stream",
     "text": [
      "       Name  Height (inches)\n",
      "0  Person 1            60.03\n",
      "1  Person 2            49.51\n",
      "2  Person 3            82.97\n",
      "3  Person 4            64.19\n",
      "4  Person 5            54.42\n"
     ]
    }
   ],
   "source": [
    "#read the csv file from the github link\n",
    "df=pd.read_csv('https://raw.githubusercontent.com/AnudipAE/DANLC/master/people_heights.csv')\n",
    "#display the first five rows\n",
    "print(df.head())"
   ]
  },
  {
   "cell_type": "code",
   "execution_count": 4,
   "id": "e2ec6a6e-0688-44d2-becb-923d8183adc0",
   "metadata": {},
   "outputs": [
    {
     "name": "stdout",
     "output_type": "stream",
     "text": [
      "       Name  Height (inches)  Height (cm)\n",
      "0  Person 1            60.03     152.4762\n",
      "1  Person 2            49.51     125.7554\n",
      "2  Person 3            82.97     210.7438\n",
      "3  Person 4            64.19     163.0426\n",
      "4  Person 5            54.42     138.2268\n"
     ]
    }
   ],
   "source": [
    "#calculating the height (inch to cm) from DataFrame and put this height as Height(cm) name column into the DataFrame\n",
    "df['Height (cm)']=cons.inch*df['Height (inches)']*100\n",
    "print(df.head())"
   ]
  },
  {
   "cell_type": "code",
   "execution_count": 5,
   "id": "e46e8851-6c8f-4f3a-96a1-a3f9b95c8321",
   "metadata": {},
   "outputs": [
    {
     "name": "stdout",
     "output_type": "stream",
     "text": [
      "\n",
      "Calculated area results saved to: person_height.csv\n"
     ]
    }
   ],
   "source": [
    "#save the DataFrame with calculated height into a new csv file. The new csv file name is \"person_height.csv\"\n",
    "output_file_path=\"person_height.csv\"\n",
    "df.to_csv(output_file_path, index=False)\n",
    "print(f\"\\nCalculated area results saved to: {output_file_path}\")"
   ]
  },
  {
   "cell_type": "code",
   "execution_count": null,
   "id": "6e1a9993-70fb-424d-a89e-eeaa99c78e1c",
   "metadata": {},
   "outputs": [],
   "source": []
  }
 ],
 "metadata": {
  "kernelspec": {
   "display_name": "Python 3 (ipykernel)",
   "language": "python",
   "name": "python3"
  },
  "language_info": {
   "codemirror_mode": {
    "name": "ipython",
    "version": 3
   },
   "file_extension": ".py",
   "mimetype": "text/x-python",
   "name": "python",
   "nbconvert_exporter": "python",
   "pygments_lexer": "ipython3",
   "version": "3.12.0"
  }
 },
 "nbformat": 4,
 "nbformat_minor": 5
}
