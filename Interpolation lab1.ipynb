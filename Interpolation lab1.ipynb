{
 "cells": [
  {
   "cell_type": "markdown",
   "id": "ce617d42-b613-4bca-973e-b7a9957659ec",
   "metadata": {},
   "source": [
    "Lab1: Write a python program using pandas Interpolation to fill in missing values\n",
    "in the data frame.\n",
    "Input:\n",
    "df = pd.DataFrame({\"Math\":[12, 4, 7, None, 2],\n",
    "\"English\":[4, 3, 57, 3, None],\n",
    "\"Hindi\":[20, 16, None, 3, 8],\n",
    "\"Science\":[14, 3, None, None, 6]})"
   ]
  },
  {
   "cell_type": "code",
   "execution_count": 3,
   "id": "232a5e39-28cb-4bc4-80b4-9f11d6dcf4b8",
   "metadata": {},
   "outputs": [],
   "source": [
    "import pandas as pd"
   ]
  },
  {
   "cell_type": "code",
   "execution_count": 4,
   "id": "eab83099-4ea1-4e0a-8c95-8f92c820f310",
   "metadata": {},
   "outputs": [
    {
     "name": "stdout",
     "output_type": "stream",
     "text": [
      "   Math  English  Hindi  Science\n",
      "0  12.0      4.0   20.0     14.0\n",
      "1   4.0      3.0   16.0      3.0\n",
      "2   7.0     57.0    NaN      NaN\n",
      "3   NaN      3.0    3.0      NaN\n",
      "4   2.0      NaN    8.0      6.0\n"
     ]
    }
   ],
   "source": [
    "df = pd.DataFrame({\"Math\":[12, 4, 7, None, 2],\"English\":[4, 3, 57, 3, None],\"Hindi\":[20, 16, None, 3, 8],\"Science\":[14, 3, None, None, 6]})\n",
    "print(df)"
   ]
  },
  {
   "cell_type": "code",
   "execution_count": 5,
   "id": "cde4dde7-7a6c-49ab-9cc0-d9557b6900e9",
   "metadata": {},
   "outputs": [
    {
     "name": "stdout",
     "output_type": "stream",
     "text": [
      "   Math  English  Hindi  Science\n",
      "0  12.0      4.0   20.0     14.0\n",
      "1   4.0      3.0   16.0      3.0\n",
      "2   7.0     57.0    9.5      4.0\n",
      "3   4.5      3.0    3.0      5.0\n",
      "4   2.0      3.0    8.0      6.0\n"
     ]
    }
   ],
   "source": [
    "#Interpolate() method to fill missing values\n",
    "df.interpolate(inplace=True)\n",
    "#Display interpolated DataFrame\n",
    "print(df)"
   ]
  },
  {
   "cell_type": "code",
   "execution_count": null,
   "id": "1929f79d-9222-4cbd-b277-567725af2b93",
   "metadata": {},
   "outputs": [],
   "source": []
  }
 ],
 "metadata": {
  "kernelspec": {
   "display_name": "Python 3 (ipykernel)",
   "language": "python",
   "name": "python3"
  },
  "language_info": {
   "codemirror_mode": {
    "name": "ipython",
    "version": 3
   },
   "file_extension": ".py",
   "mimetype": "text/x-python",
   "name": "python",
   "nbconvert_exporter": "python",
   "pygments_lexer": "ipython3",
   "version": "3.12.0"
  }
 },
 "nbformat": 4,
 "nbformat_minor": 5
}
