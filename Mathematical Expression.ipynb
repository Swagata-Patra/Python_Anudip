{
 "cells": [
  {
   "cell_type": "code",
   "execution_count": 1,
   "id": "d725df3a-b0d0-4983-9903-0eea8e01e467",
   "metadata": {},
   "outputs": [
    {
     "name": "stdin",
     "output_type": "stream",
     "text": [
      "Enter your name: SWAGY\n"
     ]
    }
   ],
   "source": [
    "x=input(\"Enter your name:\")"
   ]
  },
  {
   "cell_type": "code",
   "execution_count": 2,
   "id": "a07bd9b4-2517-4763-abfb-230ec5cfef06",
   "metadata": {},
   "outputs": [
    {
     "name": "stdout",
     "output_type": "stream",
     "text": [
      "SWAGY\n"
     ]
    }
   ],
   "source": [
    "print(x)"
   ]
  },
  {
   "cell_type": "code",
   "execution_count": 3,
   "id": "ffc95fe0-f33f-49ca-a7f4-9bc30333a160",
   "metadata": {},
   "outputs": [
    {
     "name": "stdin",
     "output_type": "stream",
     "text": [
      "Name ANU\n"
     ]
    }
   ],
   "source": [
    "x=input(\"Name\")"
   ]
  },
  {
   "cell_type": "code",
   "execution_count": 4,
   "id": "d870f497-d747-4cc0-a165-26ddb61715e1",
   "metadata": {},
   "outputs": [],
   "source": [
    "#Operator and convertation"
   ]
  },
  {
   "cell_type": "code",
   "execution_count": 5,
   "id": "8865e5a0-4b20-4a7e-b3a8-9ad4a5d28404",
   "metadata": {},
   "outputs": [
    {
     "name": "stdin",
     "output_type": "stream",
     "text": [
      "Enter 1st number: 20\n",
      "Enter 2nd number: 30\n"
     ]
    }
   ],
   "source": [
    "#In python inputs are always string\n",
    "a=input(\"Enter 1st number:\")\n",
    "b=input(\"Enter 2nd number:\")"
   ]
  },
  {
   "cell_type": "code",
   "execution_count": 7,
   "id": "26d75037-899b-44a1-aade-d1c14cd5d017",
   "metadata": {},
   "outputs": [],
   "source": [
    "#Convert our inputs(string) into integer using int() function\n",
    "x=int(a)\n",
    "y=int(b)"
   ]
  },
  {
   "cell_type": "code",
   "execution_count": 8,
   "id": "5752a289-9132-4dc7-a19b-58df48f15930",
   "metadata": {},
   "outputs": [],
   "source": [
    "#Use mathematical operation in x and y.\n",
    "z=x+y"
   ]
  },
  {
   "cell_type": "code",
   "execution_count": 9,
   "id": "3bcf67c0-a996-4614-8018-bf4b64c20695",
   "metadata": {},
   "outputs": [
    {
     "name": "stdout",
     "output_type": "stream",
     "text": [
      "50\n",
      "<class 'int'>\n"
     ]
    }
   ],
   "source": [
    "print(z)\n",
    "print(type(z)) "
   ]
  },
  {
   "cell_type": "code",
   "execution_count": 12,
   "id": "72d25cd1-7c63-4bab-91ac-0438d78c28a9",
   "metadata": {},
   "outputs": [
    {
     "name": "stdout",
     "output_type": "stream",
     "text": [
      "<class 'str'>\n",
      "Sum of two integer:50\n"
     ]
    }
   ],
   "source": [
    "#Converts our output(integer) into string using str function\n",
    "c=str(z)\n",
    "print(type(c))\n",
    "print(\"Sum of two integer:\"+c)"
   ]
  },
  {
   "cell_type": "code",
   "execution_count": 14,
   "id": "c86bb788-c608-4c95-ba7d-0ec35f10c066",
   "metadata": {},
   "outputs": [
    {
     "name": "stdin",
     "output_type": "stream",
     "text": [
      "Enter 1st number: 45\n",
      "Enter 2nd number: 10\n"
     ]
    },
    {
     "name": "stdout",
     "output_type": "stream",
     "text": [
      "Sum of two integer: 55\n",
      "Sum of two integer:55\n"
     ]
    }
   ],
   "source": [
    "#shorthand integer input\n",
    "a=int(input(\"Enter 1st number:\"))\n",
    "b=int(input(\"Enter 2nd number:\"))\n",
    "c=a+b\n",
    "print(\"Sum of two integer:\",c) #this c is integer type\n",
    "print(\"Sum of two integer:\"+str(c)) #this c is converted into string type using str()"
   ]
  },
  {
   "cell_type": "code",
   "execution_count": 17,
   "id": "1e15a352-bb6a-4a09-af92-02502e85f2a2",
   "metadata": {},
   "outputs": [
    {
     "name": "stdin",
     "output_type": "stream",
     "text": [
      "Enter the radious: 5\n"
     ]
    },
    {
     "name": "stdout",
     "output_type": "stream",
     "text": [
      "Perimeter: 31.400000000000002 Meter\n",
      "Area: 78.5 Squaremeter\n"
     ]
    }
   ],
   "source": [
    "#Write a program that will accept the radious of a circle,then display it's perimeter and area.\n",
    "r=float(input(\"Enter the radious:\"))\n",
    "p=2*3.14*r #for calculating the perimeter of a circle\n",
    "a=3.14*pow(r,2) #for calculating the area\n",
    "print(\"Perimeter:\",str(p),\"Meter\")\n",
    "print(\"Area:\",str(a),\"Squaremeter\")"
   ]
  },
  {
   "cell_type": "code",
   "execution_count": 18,
   "id": "f5a4c642-5b0a-4058-8699-f434e0e9de19",
   "metadata": {},
   "outputs": [
    {
     "name": "stdin",
     "output_type": "stream",
     "text": [
      "Enter kilometer:  12\n"
     ]
    },
    {
     "name": "stdout",
     "output_type": "stream",
     "text": [
      "12.0 Kilometer =  3.8709677419354835 Mile\n"
     ]
    }
   ],
   "source": [
    "#3.Write a program to convert kilometer to miles. (1mile=3.1km)or(1km=1/3.1mile)\n",
    "km=float(input(\"Enter kilometer: \"))\n",
    "mile=km/3.1\n",
    "print(str(km),\"Kilometer = \",str(mile),\"Mile\")"
   ]
  },
  {
   "cell_type": "code",
   "execution_count": 19,
   "id": "858c0d5b-1cb6-4bce-b7df-bd3a43e35191",
   "metadata": {},
   "outputs": [
    {
     "name": "stdin",
     "output_type": "stream",
     "text": [
      "Enter the principal amount: 5000\n",
      "Enter the rate of interset: 5\n",
      "Enter the time: 2\n"
     ]
    },
    {
     "name": "stdout",
     "output_type": "stream",
     "text": [
      "Interest: 500.0\n"
     ]
    }
   ],
   "source": [
    "#4.Accept a principal amount,accept rate of interest,find the interest.\n",
    "p=float(input(\"Enter the principal amount:\"))\n",
    "r=float(input(\"Enter the rate of interset:\"))\n",
    "t=int(input(\"Enter the time:\"))\n",
    "i=(p*r*t)/100\n",
    "print(\"Interest:\",str(i))"
   ]
  },
  {
   "cell_type": "code",
   "execution_count": null,
   "id": "62acc3b5-c76a-4603-a929-91eb8f3ee032",
   "metadata": {},
   "outputs": [],
   "source": []
  }
 ],
 "metadata": {
  "kernelspec": {
   "display_name": "Python 3 (ipykernel)",
   "language": "python",
   "name": "python3"
  },
  "language_info": {
   "codemirror_mode": {
    "name": "ipython",
    "version": 3
   },
   "file_extension": ".py",
   "mimetype": "text/x-python",
   "name": "python",
   "nbconvert_exporter": "python",
   "pygments_lexer": "ipython3",
   "version": "3.12.0"
  }
 },
 "nbformat": 4,
 "nbformat_minor": 5
}
