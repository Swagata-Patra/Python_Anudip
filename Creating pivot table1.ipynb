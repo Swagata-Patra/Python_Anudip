{
 "cells": [
  {
   "cell_type": "markdown",
   "id": "dd793ccc-401f-44eb-8d21-f4d6bba9ed4f",
   "metadata": {},
   "source": [
    "Lab1: Write a Pandas program to create a Pivot table and find the total sale\n",
    "amount region wise, manager wise, sales man wise."
   ]
  },
  {
   "cell_type": "code",
   "execution_count": 14,
   "id": "6d34cf18-86fd-49a1-af11-d59179895ca5",
   "metadata": {},
   "outputs": [],
   "source": [
    "import numpy as np\n",
    "import pandas as pd"
   ]
  },
  {
   "cell_type": "code",
   "execution_count": 15,
   "id": "a611183a-4922-44ce-8ee8-2e81f4bfd2aa",
   "metadata": {},
   "outputs": [
    {
     "name": "stdout",
     "output_type": "stream",
     "text": [
      "    Region  Manager   SalesMan          Item  Units  Unit_price  Sale_amt\n",
      "0     East   Martha  Alexander    Television     95      1198.0  113810.0\n",
      "1  Central  Hermann     Shelli  Home Theater     50       500.0   25000.0\n",
      "2  Central  Hermann       Luis    Television     36      1198.0   43128.0\n",
      "3  Central  Timothy      David    Cell Phone     27       225.0    6075.0\n",
      "4     West  Timothy    Stephen    Television     56      1198.0   67088.0\n"
     ]
    }
   ],
   "source": [
    "#read_csv() -> Read csv file into DataFrame\n",
    "df=pd.read_csv(\"salesdata.csv\")\n",
    "print(df.head())"
   ]
  },
  {
   "cell_type": "code",
   "execution_count": 16,
   "id": "31728e95-a27a-43cd-a26d-274d78d04840",
   "metadata": {},
   "outputs": [
    {
     "name": "stdout",
     "output_type": "stream",
     "text": [
      "                                sum\n",
      "                           Sale_amt\n",
      "Region  Manager SalesMan           \n",
      "Central Douglas John       124016.0\n",
      "        Hermann Luis       206373.0\n",
      "                Shelli      33698.0\n",
      "                Sigal      125037.5\n",
      "        Marth   Steven      14000.0\n",
      "        Martha  Steven     185690.0\n",
      "        Timothy David      140955.0\n",
      "East    Douglas Karen       48204.0\n",
      "        Martha  Alexander  236703.0\n",
      "                Diana       36100.0\n",
      "West    Douglas Michael     66836.0\n",
      "        Timothy Stephen     88063.0\n"
     ]
    }
   ],
   "source": [
    "#Create pivot table for showing total sales amount, based on regionwise,manager wise and salesman wise\n",
    "region_manager_salesman_pivot=pd.pivot_table(df,index=['Region','Manager','SalesMan'],values=['Sale_amt'],aggfunc=['sum'])\n",
    "print(region_manager_salesman_pivot)"
   ]
  },
  {
   "cell_type": "code",
   "execution_count": 17,
   "id": "d1791dab-9654-4b4d-9d31-1bd8f4636be7",
   "metadata": {},
   "outputs": [
    {
     "name": "stdout",
     "output_type": "stream",
     "text": [
      "              sum\n",
      "         Sale_amt\n",
      "Region           \n",
      "Central  829769.5\n",
      "East     321007.0\n",
      "West     154899.0\n"
     ]
    }
   ],
   "source": [
    "region_wise_pivot=pd.pivot_table(df,index=['Region'],values=['Sale_amt'],aggfunc=['sum'])\n",
    "print(region_wise_pivot)"
   ]
  },
  {
   "cell_type": "code",
   "execution_count": 18,
   "id": "bbfbc1a5-a3c1-45e0-9dea-efe637044a4b",
   "metadata": {},
   "outputs": [
    {
     "name": "stdout",
     "output_type": "stream",
     "text": [
      "              sum\n",
      "         Sale_amt\n",
      "Manager          \n",
      "Douglas  239056.0\n",
      "Hermann  365108.5\n",
      "Marth     14000.0\n",
      "Martha   458493.0\n",
      "Timothy  229018.0\n"
     ]
    }
   ],
   "source": [
    "manager_wise_pivot=pd.pivot_table(df,index=['Manager'],values=['Sale_amt'],aggfunc=['sum'])\n",
    "print(manager_wise_pivot)"
   ]
  },
  {
   "cell_type": "code",
   "execution_count": 19,
   "id": "029a61a0-fcb4-419c-a2da-2622b86e5555",
   "metadata": {},
   "outputs": [
    {
     "name": "stdout",
     "output_type": "stream",
     "text": [
      "                sum\n",
      "           Sale_amt\n",
      "SalesMan           \n",
      "Alexander  236703.0\n",
      "David      140955.0\n",
      "Diana       36100.0\n",
      "John       124016.0\n",
      "Karen       48204.0\n",
      "Luis       206373.0\n",
      "Michael     66836.0\n",
      "Shelli      33698.0\n",
      "Sigal      125037.5\n",
      "Stephen     88063.0\n",
      "Steven     199690.0\n"
     ]
    }
   ],
   "source": [
    "salesman_wise_pivot=pd.pivot_table(df,index=['SalesMan'],values=['Sale_amt'],aggfunc=['sum'])\n",
    "print(salesman_wise_pivot)"
   ]
  },
  {
   "cell_type": "code",
   "execution_count": 20,
   "id": "6d6285d9-9a58-42e8-b76c-d8b89cde8e1f",
   "metadata": {},
   "outputs": [
    {
     "name": "stdout",
     "output_type": "stream",
     "text": [
      "                                sum\n",
      "                           Sale_amt\n",
      "Region  Manager SalesMan           \n",
      "Central Douglas John       124016.0\n",
      "        Hermann Luis       206373.0\n",
      "                Shelli      33698.0\n",
      "                Sigal      125037.5\n",
      "        Marth   Steven      14000.0\n",
      "        Martha  Steven     185690.0\n",
      "        Timothy David      140955.0\n",
      "East    Douglas Karen       48204.0\n",
      "        Martha  Alexander  236703.0\n",
      "                Diana       36100.0\n",
      "West    Douglas Michael     66836.0\n",
      "        Timothy Stephen     88063.0\n"
     ]
    }
   ],
   "source": [
    "region_manager_salesman_pivot=pd.pivot_table(df,index=['Region','Manager','SalesMan'],values=['Sale_amt'],aggfunc=['sum'])\n",
    "print(region_manager_salesman_pivot)"
   ]
  },
  {
   "cell_type": "code",
   "execution_count": null,
   "id": "17e42b38-7b43-4367-a9d7-70e1131e8fd7",
   "metadata": {},
   "outputs": [],
   "source": []
  },
  {
   "cell_type": "code",
   "execution_count": null,
   "id": "856d80a6-90cb-43eb-8dfa-a134f9f3f57b",
   "metadata": {},
   "outputs": [],
   "source": []
  },
  {
   "cell_type": "code",
   "execution_count": null,
   "id": "fece51f3-2e9e-459d-aea8-ae4774ca8395",
   "metadata": {},
   "outputs": [],
   "source": []
  }
 ],
 "metadata": {
  "kernelspec": {
   "display_name": "Python 3 (ipykernel)",
   "language": "python",
   "name": "python3"
  },
  "language_info": {
   "codemirror_mode": {
    "name": "ipython",
    "version": 3
   },
   "file_extension": ".py",
   "mimetype": "text/x-python",
   "name": "python",
   "nbconvert_exporter": "python",
   "pygments_lexer": "ipython3",
   "version": "3.12.0"
  }
 },
 "nbformat": 4,
 "nbformat_minor": 5
}
