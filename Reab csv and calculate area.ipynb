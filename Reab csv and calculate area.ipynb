{
 "cells": [
  {
   "cell_type": "markdown",
   "id": "fa3cf1e0-8900-4ca2-a944-f022e17f94d0",
   "metadata": {},
   "source": [
    "Write a python program to read the radius from the below .csv file\n",
    "and then Calculate the Area of a Circle using SciPy Constants. After that display\n",
    "the first 5 records and also save the calculated result into a new .csv file.\n",
    "Input:\n",
    "https://raw.githubusercontent.com/AnudipAE/DANLC/master/radius_data.csv"
   ]
  },
  {
   "cell_type": "code",
   "execution_count": 11,
   "id": "69b240bc-1036-47f3-ad58-20df50a5cf58",
   "metadata": {},
   "outputs": [],
   "source": [
    "#import pandas and scipy and constant from scipy module.\n",
    "import pandas as pd\n",
    "import scipy\n",
    "from scipy import constants as cons"
   ]
  },
  {
   "cell_type": "code",
   "execution_count": 19,
   "id": "06b01b6d-a24b-49d0-8f3d-b8fbc7aa3acc",
   "metadata": {},
   "outputs": [
    {
     "data": {
      "text/html": [
       "<div>\n",
       "<style scoped>\n",
       "    .dataframe tbody tr th:only-of-type {\n",
       "        vertical-align: middle;\n",
       "    }\n",
       "\n",
       "    .dataframe tbody tr th {\n",
       "        vertical-align: top;\n",
       "    }\n",
       "\n",
       "    .dataframe thead th {\n",
       "        text-align: right;\n",
       "    }\n",
       "</style>\n",
       "<table border=\"1\" class=\"dataframe\">\n",
       "  <thead>\n",
       "    <tr style=\"text-align: right;\">\n",
       "      <th></th>\n",
       "      <th>CircleName</th>\n",
       "      <th>Radius</th>\n",
       "      <th>Area</th>\n",
       "    </tr>\n",
       "  </thead>\n",
       "  <tbody>\n",
       "    <tr>\n",
       "      <th>0</th>\n",
       "      <td>SAY</td>\n",
       "      <td>3.798717</td>\n",
       "      <td>45.333960</td>\n",
       "    </tr>\n",
       "    <tr>\n",
       "      <th>1</th>\n",
       "      <td>PSN</td>\n",
       "      <td>9.958397</td>\n",
       "      <td>311.550720</td>\n",
       "    </tr>\n",
       "    <tr>\n",
       "      <th>2</th>\n",
       "      <td>JDP</td>\n",
       "      <td>5.142711</td>\n",
       "      <td>83.087197</td>\n",
       "    </tr>\n",
       "    <tr>\n",
       "      <th>3</th>\n",
       "      <td>AUO</td>\n",
       "      <td>3.319584</td>\n",
       "      <td>34.619210</td>\n",
       "    </tr>\n",
       "    <tr>\n",
       "      <th>4</th>\n",
       "      <td>OHG</td>\n",
       "      <td>1.138395</td>\n",
       "      <td>4.071325</td>\n",
       "    </tr>\n",
       "  </tbody>\n",
       "</table>\n",
       "</div>"
      ],
      "text/plain": [
       "  CircleName    Radius        Area\n",
       "0        SAY  3.798717   45.333960\n",
       "1        PSN  9.958397  311.550720\n",
       "2        JDP  5.142711   83.087197\n",
       "3        AUO  3.319584   34.619210\n",
       "4        OHG  1.138395    4.071325"
      ]
     },
     "execution_count": 19,
     "metadata": {},
     "output_type": "execute_result"
    }
   ],
   "source": [
    "#read the csv file from github link\n",
    "df=pd.read_csv(\" https://raw.githubusercontent.com/AnudipAE/DANLC/master/radius_data.csv\")\n",
    "#calculating the area of the circle with given radious and put a new column named Area to show the area into the DataFrame\n",
    "df['Area']= df['Radius']**2*cons.pi\n",
    "#displaying first five rows from df\n",
    "df.head()"
   ]
  },
  {
   "cell_type": "code",
   "execution_count": 20,
   "id": "e49bd0f8-438d-44a7-bc73-a602a64851a4",
   "metadata": {},
   "outputs": [
    {
     "name": "stdout",
     "output_type": "stream",
     "text": [
      "\n",
      "Calculated area results saved to: circle_area_results.csv\n"
     ]
    }
   ],
   "source": [
    "#save the DataFrame with calculated area into a new csv file. The new csv file name is \"circle_area_results.csv\"\n",
    "output_file_path=\"circle_area_results.csv\"\n",
    "df.to_csv(output_file_path, index=False)\n",
    "print(f\"\\nCalculated area results saved to: {output_file_path}\")"
   ]
  },
  {
   "cell_type": "code",
   "execution_count": null,
   "id": "e5ff0ffc-c9bf-4f9d-b5ae-d128898c98d3",
   "metadata": {},
   "outputs": [],
   "source": []
  }
 ],
 "metadata": {
  "kernelspec": {
   "display_name": "Python 3 (ipykernel)",
   "language": "python",
   "name": "python3"
  },
  "language_info": {
   "codemirror_mode": {
    "name": "ipython",
    "version": 3
   },
   "file_extension": ".py",
   "mimetype": "text/x-python",
   "name": "python",
   "nbconvert_exporter": "python",
   "pygments_lexer": "ipython3",
   "version": "3.12.0"
  }
 },
 "nbformat": 4,
 "nbformat_minor": 5
}
