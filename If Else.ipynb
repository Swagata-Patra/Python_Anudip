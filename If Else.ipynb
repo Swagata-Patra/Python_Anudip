{
 "cells": [
  {
   "cell_type": "code",
   "execution_count": 4,
   "id": "e0f72a89-0dfc-45e5-9660-b958018b2bcf",
   "metadata": {},
   "outputs": [
    {
     "name": "stdin",
     "output_type": "stream",
     "text": [
      "Enter number: 12\n"
     ]
    },
    {
     "name": "stdout",
     "output_type": "stream",
     "text": [
      "12 is a even number\n"
     ]
    }
   ],
   "source": [
    "#1.Write a python program that will accept a number and say if the number is odd or even.\n",
    "def oddeven():\n",
    "    n=int(input(\"Enter number:\"))\n",
    "    if n%2==0:\n",
    "        print(n,\"is a even number\")\n",
    "    else:\n",
    "        print(n,\"is a odd number\")\n",
    "oddeven()\n"
   ]
  },
  {
   "cell_type": "code",
   "execution_count": 7,
   "id": "4864884c-17c0-4eba-bc78-0a3e67aa0867",
   "metadata": {},
   "outputs": [
    {
     "name": "stdin",
     "output_type": "stream",
     "text": [
      "Number: 12\n",
      "Number: 13\n",
      "Enter the operation:+/-/*// %\n"
     ]
    },
    {
     "name": "stdout",
     "output_type": "stream",
     "text": [
      "This is error\n"
     ]
    }
   ],
   "source": [
    "#2.Write a python program to make a calculator\n",
    "def calculator():\n",
    "    n1=float(input(\"Number:\"))\n",
    "    n2=float(input(\"Number:\"))\n",
    "    operation=input(\"Enter the operation:+/-/*//\")\n",
    "    if operation=='+':\n",
    "        a=n1+n2\n",
    "        print(\"Addition:\",a)\n",
    "    elif operation=='-':\n",
    "        s=n1-n2\n",
    "        print(\"Substraction:\",s)\n",
    "    elif operation=='*':\n",
    "        m=n1*n2\n",
    "        print(\"Multiplication:\",m)\n",
    "    elif operation=='/':\n",
    "        d==n1/n2\n",
    "        print(\"Division:\",d)\n",
    "    else:\n",
    "        print(\"This is error\")\n",
    "calculator()"
   ]
  },
  {
   "cell_type": "code",
   "execution_count": 10,
   "id": "89f8a7c9-ffda-42c8-b8f1-eabdee720e86",
   "metadata": {},
   "outputs": [
    {
     "name": "stdin",
     "output_type": "stream",
     "text": [
      "Enter a number: 7\n",
      "Enter a number: 8\n"
     ]
    },
    {
     "name": "stdout",
     "output_type": "stream",
     "text": [
      "a is less than b\n"
     ]
    }
   ],
   "source": [
    "#3.Check if two number is greater than or less than or equal.\n",
    "def greaterOrLess():\n",
    "    a=int(input(\"Enter a number:\"))\n",
    "    b=int(input(\"Enter a number:\"))\n",
    "    if a>b:\n",
    "        print(\"a is greater than b\")\n",
    "    elif a<b:\n",
    "        print(\"a is less than b\")\n",
    "    else:\n",
    "        print(\"a is equals to b\")\n",
    "greaterOrLess()\n",
    "     "
   ]
  },
  {
   "cell_type": "code",
   "execution_count": 13,
   "id": "63288677-64e3-4c0d-8cdd-5d7e11de14ce",
   "metadata": {},
   "outputs": [
    {
     "name": "stdin",
     "output_type": "stream",
     "text": [
      "Enter User Name: SWAGATA\n",
      "Enter Password: swa123\n"
     ]
    },
    {
     "name": "stdout",
     "output_type": "stream",
     "text": [
      "Login is successful\n"
     ]
    }
   ],
   "source": [
    "#4.Develop a simple login system.Ask the user to enter a username and password,and then check if they match a predefine username\n",
    "#and password.Print a successful massage if the login is successful,otherwise print error.\n",
    "def login_system():\n",
    "    #Define original user and password\n",
    "    userName=\"SWAGATA\"\n",
    "    password=\"swa123\"\n",
    "    #taking the user input\n",
    "    enterName=input(\"Enter User Name:\")\n",
    "    if enterName==userName:\n",
    "        enterpassword=input(\"Enter Password:\")\n",
    "        if enterpassword==password:\n",
    "            print(\"Login is successful\")\n",
    "        else:\n",
    "            print(\"Login failed\")\n",
    "    else:\n",
    "        print(\"User not valid\")\n",
    "login_system()\n",
    "        \n",
    "    \n",
    "    "
   ]
  },
  {
   "cell_type": "code",
   "execution_count": null,
   "id": "b2a1d944-a370-44cf-bf26-40e04eed2a5c",
   "metadata": {},
   "outputs": [],
   "source": []
  }
 ],
 "metadata": {
  "kernelspec": {
   "display_name": "Python 3 (ipykernel)",
   "language": "python",
   "name": "python3"
  },
  "language_info": {
   "codemirror_mode": {
    "name": "ipython",
    "version": 3
   },
   "file_extension": ".py",
   "mimetype": "text/x-python",
   "name": "python",
   "nbconvert_exporter": "python",
   "pygments_lexer": "ipython3",
   "version": "3.12.0"
  }
 },
 "nbformat": 4,
 "nbformat_minor": 5
}
