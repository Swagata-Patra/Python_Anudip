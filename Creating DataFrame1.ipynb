{
 "cells": [
  {
   "cell_type": "markdown",
   "id": "9c527909-2d44-4a08-989c-f286ff15a067",
   "metadata": {},
   "source": [
    "Lab1: Write a Pandas program to create a dataframe from a dictionary and\n",
    "display it.\n",
    "Sample data:\n",
    "score={'Math':[78,85,96,80,86], 'English':[84,94,89,83,86],'Hindi':[86,97,96,72,83]}"
   ]
  },
  {
   "cell_type": "code",
   "execution_count": 1,
   "id": "b9e516df-7cb0-4da9-a401-8f8e6f0aac16",
   "metadata": {},
   "outputs": [],
   "source": [
    "import pandas as pd"
   ]
  },
  {
   "cell_type": "code",
   "execution_count": 2,
   "id": "63e2ebb9-f3e8-4507-9d2c-e4f8aca4f54f",
   "metadata": {},
   "outputs": [],
   "source": [
    "#Sample Data Set\n",
    "score={'Math':[78,85,96,80,86],\n",
    "       'English':[84,94,89,83,86],\n",
    "       'Hindi':[86,97,96,72,83]}"
   ]
  },
  {
   "cell_type": "code",
   "execution_count": 3,
   "id": "25aef804-c432-4f59-8b72-5c05514dc5dd",
   "metadata": {},
   "outputs": [
    {
     "name": "stdout",
     "output_type": "stream",
     "text": [
      "   Math  English  Hindi\n",
      "0    78       84     86\n",
      "1    85       94     97\n",
      "2    96       89     96\n",
      "3    80       83     72\n",
      "4    86       86     83\n"
     ]
    }
   ],
   "source": [
    "#DataFrame() returns a data set in a table format\n",
    "df=pd.DataFrame(score)\n",
    "print(df)"
   ]
  },
  {
   "cell_type": "code",
   "execution_count": null,
   "id": "1747a988-eb19-4eb1-a59c-96c0c4ad15a8",
   "metadata": {},
   "outputs": [],
   "source": []
  }
 ],
 "metadata": {
  "kernelspec": {
   "display_name": "Python 3 (ipykernel)",
   "language": "python",
   "name": "python3"
  },
  "language_info": {
   "codemirror_mode": {
    "name": "ipython",
    "version": 3
   },
   "file_extension": ".py",
   "mimetype": "text/x-python",
   "name": "python",
   "nbconvert_exporter": "python",
   "pygments_lexer": "ipython3",
   "version": "3.12.0"
  }
 },
 "nbformat": 4,
 "nbformat_minor": 5
}
