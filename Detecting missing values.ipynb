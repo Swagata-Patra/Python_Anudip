{
 "cells": [
  {
   "cell_type": "markdown",
   "id": "4001fffb-c2e1-4c4d-8ff2-771276b48485",
   "metadata": {},
   "source": [
    " Write a Pandas program to detect missing values of a given DataFrame.\n",
    "Input:\n",
    "df = pd.DataFrame({\n",
    "'ord_no':[70001,np.nan,70002,70004,np.nan,70005,np.nan,70010,70003,70012,np.na\n",
    "n,70013],\n",
    "'purch_amt':[150.5,270.65,65.26,110.5,948.5,2400.6,5760,1983.43,2480.4,250.45,\n",
    "75.29,3045.6], 'ord_date':\n",
    "['2012-10-05','2012-09-10',np.nan,'2012-08-17','2012-09-10','2012-07-27','2012-09-10'\n",
    ",'2012-10-10','2012-10-10','2012-06-27','2012-08-17','2012-04-25'],\n",
    "'customer_id':[3002,3001,3001,3003,3002,3001,3001,3004,3003,3002,3001,3001],\n",
    "'salesman_id':[5002,5003,5001,np.nan,5002,5001,5001,np.nan,5003,5002,5003,np.n\n",
    "an]})"
   ]
  },
  {
   "cell_type": "code",
   "execution_count": 2,
   "id": "5a37d747-e2df-4f97-84e5-429cf8b2e763",
   "metadata": {},
   "outputs": [],
   "source": [
    "import pandas as pd\n",
    "import numpy as np"
   ]
  },
  {
   "cell_type": "code",
   "execution_count": 3,
   "id": "86a0bf60-c682-45e7-b8fc-26b34e924f48",
   "metadata": {},
   "outputs": [
    {
     "name": "stdout",
     "output_type": "stream",
     "text": [
      "     ord_no  purch_amt    ord_date  customer_id  salesman_id\n",
      "0   70001.0     150.50  2012-10-05         3002       5002.0\n",
      "1       NaN     270.65  2012-09-10         3001       5003.0\n",
      "2   70002.0      65.26         NaN         3001       5001.0\n",
      "3   70004.0     110.50  2012-08-17         3003          NaN\n",
      "4       NaN     948.50  2012-09-10         3002       5002.0\n",
      "5   70005.0    2400.60  2012-07-27         3001       5001.0\n",
      "6       NaN    5760.00  2012-09-10         3001       5001.0\n",
      "7   70010.0    1983.43  2012-10-10         3004          NaN\n",
      "8   70003.0    2480.40  2012-10-10         3003       5003.0\n",
      "9   70012.0     250.45  2012-06-27         3002       5002.0\n",
      "10      NaN      75.29  2012-08-17         3001       5003.0\n",
      "11  70013.0    3045.60  2012-04-25         3001          NaN\n",
      "\n",
      "Missing values of the said dataframe:\n",
      "ord_no         4\n",
      "purch_amt      0\n",
      "ord_date       1\n",
      "customer_id    0\n",
      "salesman_id    3\n",
      "dtype: int64\n"
     ]
    }
   ],
   "source": [
    "df = pd.DataFrame({'ord_no':[70001,np.nan,70002,70004,np.nan,70005,np.nan,70010,70003,70012,np.nan,70013],\n",
    "                   'purch_amt':[150.5,270.65,65.26,110.5,948.5,2400.6,5760,1983.43,2480.4,250.45,75.29,3045.6],\n",
    "                   'ord_date':['2012-10-05','2012-09-10',np.nan,'2012-08-17','2012-09-10','2012-07-27','2012-09-10'  ,'2012-10-10','2012-10-10','2012-06-27','2012-08-17','2012-04-25'],\n",
    "                   'customer_id':[3002,3001,3001,3003,3002,3001,3001,3004,3003,3002,3001,3001],\n",
    "                   'salesman_id':[5002,5003,5001,np.nan,5002,5001,5001,np.nan,5003,5002,5003,np.nan]})\n",
    "print(df)\n",
    "#isnull() -> It returns true when null value is present in DataFrame.\n",
    "#sum -> It is used for calculating the total null values present in each column.\n",
    "missing_values=df.isnull().sum()\n",
    "print('\\nMissing values of the said dataframe:')\n",
    "print(missing_values)"
   ]
  },
  {
   "cell_type": "code",
   "execution_count": null,
   "id": "5a217087-6415-41e1-b4ef-5c1af18c26f4",
   "metadata": {},
   "outputs": [],
   "source": []
  },
  {
   "cell_type": "code",
   "execution_count": null,
   "id": "7c126348-ccc3-46c8-b92b-fc59b8ff6ea9",
   "metadata": {},
   "outputs": [],
   "source": []
  }
 ],
 "metadata": {
  "kernelspec": {
   "display_name": "Python 3 (ipykernel)",
   "language": "python",
   "name": "python3"
  },
  "language_info": {
   "codemirror_mode": {
    "name": "ipython",
    "version": 3
   },
   "file_extension": ".py",
   "mimetype": "text/x-python",
   "name": "python",
   "nbconvert_exporter": "python",
   "pygments_lexer": "ipython3",
   "version": "3.12.0"
  }
 },
 "nbformat": 4,
 "nbformat_minor": 5
}
